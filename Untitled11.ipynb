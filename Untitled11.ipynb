{
 "cells": [
  {
   "cell_type": "code",
   "execution_count": 1,
   "id": "67864fce",
   "metadata": {},
   "outputs": [],
   "source": [
    "def bday(num):\n",
    "    for i in range(1,100000):\n",
    "        a=i-1\n",
    "        b=i+1\n",
    "        for j in range(100000,b+1,-1):\n",
    "            if num%j==0:\n",
    "                print(j)\n",
    "                break\n",
    "            else:\n",
    "                pass\n",
    "        break"
   ]
  },
  {
   "cell_type": "code",
   "execution_count": null,
   "id": "8b5d2461",
   "metadata": {},
   "outputs": [],
   "source": [
    "def win(N,M):\n",
    "    for i in range (0,N-1):\n",
    "        for j in range (0,M-1):\n",
    "            if i%2==0:\n",
    "                print(1, end=' ')\n",
    "            else:\n",
    "                print(0, end=' ')\n",
    "    if N%2==0 & M%2==0:\n",
    "        print(\"0\")\n",
    "    else:\n",
    "        print(\"1\")"
   ]
  }
 ],
 "metadata": {
  "kernelspec": {
   "display_name": "Python 3 (ipykernel)",
   "language": "python",
   "name": "python3"
  },
  "language_info": {
   "codemirror_mode": {
    "name": "ipython",
    "version": 3
   },
   "file_extension": ".py",
   "mimetype": "text/x-python",
   "name": "python",
   "nbconvert_exporter": "python",
   "pygments_lexer": "ipython3",
   "version": "3.9.7"
  }
 },
 "nbformat": 4,
 "nbformat_minor": 5
}
