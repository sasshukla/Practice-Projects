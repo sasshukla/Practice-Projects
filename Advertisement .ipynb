{
 "cells": [
  {
   "cell_type": "markdown",
   "id": "7f4b8120",
   "metadata": {},
   "source": [
    "#### Importing basic libraries"
   ]
  },
  {
   "cell_type": "code",
   "execution_count": 1,
   "id": "4539c5c4",
   "metadata": {},
   "outputs": [],
   "source": [
    "import pandas as pd\n",
    "import numpy as np \n",
    "import warnings\n",
    "warnings.filterwarnings('ignore')"
   ]
  },
  {
   "cell_type": "markdown",
   "id": "b6377c33",
   "metadata": {},
   "source": [
    "### Importing the dataset"
   ]
  },
  {
   "cell_type": "code",
   "execution_count": 2,
   "id": "66776773",
   "metadata": {},
   "outputs": [
    {
     "data": {
      "text/html": [
       "<div>\n",
       "<style scoped>\n",
       "    .dataframe tbody tr th:only-of-type {\n",
       "        vertical-align: middle;\n",
       "    }\n",
       "\n",
       "    .dataframe tbody tr th {\n",
       "        vertical-align: top;\n",
       "    }\n",
       "\n",
       "    .dataframe thead th {\n",
       "        text-align: right;\n",
       "    }\n",
       "</style>\n",
       "<table border=\"1\" class=\"dataframe\">\n",
       "  <thead>\n",
       "    <tr style=\"text-align: right;\">\n",
       "      <th></th>\n",
       "      <th>Unnamed: 0</th>\n",
       "      <th>TV</th>\n",
       "      <th>radio</th>\n",
       "      <th>newspaper</th>\n",
       "      <th>sales</th>\n",
       "    </tr>\n",
       "  </thead>\n",
       "  <tbody>\n",
       "    <tr>\n",
       "      <th>0</th>\n",
       "      <td>1</td>\n",
       "      <td>230.1</td>\n",
       "      <td>37.8</td>\n",
       "      <td>69.2</td>\n",
       "      <td>22.1</td>\n",
       "    </tr>\n",
       "    <tr>\n",
       "      <th>1</th>\n",
       "      <td>2</td>\n",
       "      <td>44.5</td>\n",
       "      <td>39.3</td>\n",
       "      <td>45.1</td>\n",
       "      <td>10.4</td>\n",
       "    </tr>\n",
       "    <tr>\n",
       "      <th>2</th>\n",
       "      <td>3</td>\n",
       "      <td>17.2</td>\n",
       "      <td>45.9</td>\n",
       "      <td>69.3</td>\n",
       "      <td>9.3</td>\n",
       "    </tr>\n",
       "    <tr>\n",
       "      <th>3</th>\n",
       "      <td>4</td>\n",
       "      <td>151.5</td>\n",
       "      <td>41.3</td>\n",
       "      <td>58.5</td>\n",
       "      <td>18.5</td>\n",
       "    </tr>\n",
       "    <tr>\n",
       "      <th>4</th>\n",
       "      <td>5</td>\n",
       "      <td>180.8</td>\n",
       "      <td>10.8</td>\n",
       "      <td>58.4</td>\n",
       "      <td>12.9</td>\n",
       "    </tr>\n",
       "  </tbody>\n",
       "</table>\n",
       "</div>"
      ],
      "text/plain": [
       "   Unnamed: 0     TV  radio  newspaper  sales\n",
       "0           1  230.1   37.8       69.2   22.1\n",
       "1           2   44.5   39.3       45.1   10.4\n",
       "2           3   17.2   45.9       69.3    9.3\n",
       "3           4  151.5   41.3       58.5   18.5\n",
       "4           5  180.8   10.8       58.4   12.9"
      ]
     },
     "execution_count": 2,
     "metadata": {},
     "output_type": "execute_result"
    }
   ],
   "source": [
    "df =pd.read_csv(r'C:\\Users\\DELL\\Downloads\\Advertisingnew.csv')\n",
    "df.head() ### Checking the dataset "
   ]
  },
  {
   "cell_type": "code",
   "execution_count": 3,
   "id": "7dfe8a53",
   "metadata": {},
   "outputs": [
    {
     "data": {
      "text/plain": [
       "(200, 5)"
      ]
     },
     "execution_count": 3,
     "metadata": {},
     "output_type": "execute_result"
    }
   ],
   "source": [
    "### Checking the shape of the dataset \n",
    "df.shape"
   ]
  },
  {
   "cell_type": "code",
   "execution_count": 4,
   "id": "e4659c91",
   "metadata": {},
   "outputs": [
    {
     "data": {
      "text/html": [
       "<div>\n",
       "<style scoped>\n",
       "    .dataframe tbody tr th:only-of-type {\n",
       "        vertical-align: middle;\n",
       "    }\n",
       "\n",
       "    .dataframe tbody tr th {\n",
       "        vertical-align: top;\n",
       "    }\n",
       "\n",
       "    .dataframe thead th {\n",
       "        text-align: right;\n",
       "    }\n",
       "</style>\n",
       "<table border=\"1\" class=\"dataframe\">\n",
       "  <thead>\n",
       "    <tr style=\"text-align: right;\">\n",
       "      <th></th>\n",
       "      <th>TV</th>\n",
       "      <th>radio</th>\n",
       "      <th>newspaper</th>\n",
       "      <th>sales</th>\n",
       "    </tr>\n",
       "  </thead>\n",
       "  <tbody>\n",
       "    <tr>\n",
       "      <th>0</th>\n",
       "      <td>230.1</td>\n",
       "      <td>37.8</td>\n",
       "      <td>69.2</td>\n",
       "      <td>22.1</td>\n",
       "    </tr>\n",
       "    <tr>\n",
       "      <th>1</th>\n",
       "      <td>44.5</td>\n",
       "      <td>39.3</td>\n",
       "      <td>45.1</td>\n",
       "      <td>10.4</td>\n",
       "    </tr>\n",
       "    <tr>\n",
       "      <th>2</th>\n",
       "      <td>17.2</td>\n",
       "      <td>45.9</td>\n",
       "      <td>69.3</td>\n",
       "      <td>9.3</td>\n",
       "    </tr>\n",
       "    <tr>\n",
       "      <th>3</th>\n",
       "      <td>151.5</td>\n",
       "      <td>41.3</td>\n",
       "      <td>58.5</td>\n",
       "      <td>18.5</td>\n",
       "    </tr>\n",
       "    <tr>\n",
       "      <th>4</th>\n",
       "      <td>180.8</td>\n",
       "      <td>10.8</td>\n",
       "      <td>58.4</td>\n",
       "      <td>12.9</td>\n",
       "    </tr>\n",
       "  </tbody>\n",
       "</table>\n",
       "</div>"
      ],
      "text/plain": [
       "      TV  radio  newspaper  sales\n",
       "0  230.1   37.8       69.2   22.1\n",
       "1   44.5   39.3       45.1   10.4\n",
       "2   17.2   45.9       69.3    9.3\n",
       "3  151.5   41.3       58.5   18.5\n",
       "4  180.8   10.8       58.4   12.9"
      ]
     },
     "execution_count": 4,
     "metadata": {},
     "output_type": "execute_result"
    }
   ],
   "source": [
    "### As the Unnamed is not any use for the model so, I am droping the column Unnamed: 0\n",
    "df.drop(columns='Unnamed: 0', inplace=True)\n",
    "df.head() ### Checking the dataset again"
   ]
  },
  {
   "cell_type": "code",
   "execution_count": 5,
   "id": "11e777c9",
   "metadata": {},
   "outputs": [
    {
     "data": {
      "text/plain": [
       "TV           0\n",
       "radio        0\n",
       "newspaper    0\n",
       "sales        0\n",
       "dtype: int64"
      ]
     },
     "execution_count": 5,
     "metadata": {},
     "output_type": "execute_result"
    }
   ],
   "source": [
    "### Checking the null values in the dataset\n",
    "df.isnull().sum()"
   ]
  },
  {
   "cell_type": "markdown",
   "id": "3288a5d3",
   "metadata": {},
   "source": [
    "### There is no null value in the data set. "
   ]
  },
  {
   "cell_type": "code",
   "execution_count": 6,
   "id": "92596a35",
   "metadata": {},
   "outputs": [
    {
     "data": {
      "text/html": [
       "<div>\n",
       "<style scoped>\n",
       "    .dataframe tbody tr th:only-of-type {\n",
       "        vertical-align: middle;\n",
       "    }\n",
       "\n",
       "    .dataframe tbody tr th {\n",
       "        vertical-align: top;\n",
       "    }\n",
       "\n",
       "    .dataframe thead th {\n",
       "        text-align: right;\n",
       "    }\n",
       "</style>\n",
       "<table border=\"1\" class=\"dataframe\">\n",
       "  <thead>\n",
       "    <tr style=\"text-align: right;\">\n",
       "      <th></th>\n",
       "      <th>TV</th>\n",
       "      <th>radio</th>\n",
       "      <th>newspaper</th>\n",
       "      <th>sales</th>\n",
       "    </tr>\n",
       "  </thead>\n",
       "  <tbody>\n",
       "  </tbody>\n",
       "</table>\n",
       "</div>"
      ],
      "text/plain": [
       "Empty DataFrame\n",
       "Columns: [TV, radio, newspaper, sales]\n",
       "Index: []"
      ]
     },
     "execution_count": 6,
     "metadata": {},
     "output_type": "execute_result"
    }
   ],
   "source": [
    "### Checking the black entry \n",
    "df.loc[df['sales']==\" \"]"
   ]
  },
  {
   "cell_type": "markdown",
   "id": "ef5e58c9",
   "metadata": {},
   "source": [
    "### Checking the datatype of the dataset"
   ]
  },
  {
   "cell_type": "code",
   "execution_count": 7,
   "id": "88e78ab1",
   "metadata": {},
   "outputs": [
    {
     "data": {
      "text/plain": [
       "TV           float64\n",
       "radio        float64\n",
       "newspaper    float64\n",
       "sales        float64\n",
       "dtype: object"
      ]
     },
     "execution_count": 7,
     "metadata": {},
     "output_type": "execute_result"
    }
   ],
   "source": [
    "df.dtypes"
   ]
  },
  {
   "cell_type": "markdown",
   "id": "4a81137a",
   "metadata": {},
   "source": [
    "#### As the datatype of all the features are same. So no need to do any change"
   ]
  },
  {
   "cell_type": "markdown",
   "id": "4b698666",
   "metadata": {},
   "source": [
    "### Now moving to the EDA part"
   ]
  },
  {
   "cell_type": "code",
   "execution_count": 8,
   "id": "6b555ca2",
   "metadata": {},
   "outputs": [],
   "source": [
    "### Importing some basic libraries for visualization\n",
    "import seaborn as sns\n",
    "import matplotlib.pyplot as plt"
   ]
  },
  {
   "cell_type": "code",
   "execution_count": 9,
   "id": "4a407644",
   "metadata": {},
   "outputs": [
    {
     "data": {
      "image/png": "[encoded data removed]",
      "text/plain": [
       "<Figure size 1080x720 with 3 Axes>"
      ]
     },
     "metadata": {
      "needs_background": "light"
     },
     "output_type": "display_data"
    }
   ],
   "source": [
    "### Chechking the relation between target and feature \n",
    "\n",
    "x= df.drop(columns='sales')\n",
    "y=df[\"sales\"]\n",
    "plt.figure(figsize=(15,10))\n",
    "pn=1\n",
    "for column in x:\n",
    "    if pn <= 4:\n",
    "        ax= plt.subplot(2,2, pn)\n",
    "        sns.scatterplot(x[column],y)\n",
    "        plt.xlabel(column, fontsize= 20)\n",
    "    pn+=1\n",
    "plt.show()"
   ]
  },
  {
   "cell_type": "markdown",
   "id": "59422490",
   "metadata": {},
   "source": [
    "### I conclude from the above ploting that feature TV has good trend with Target sales, Radio is also has good trend with sales but radio dose not has that good trend with target as TV and Radio."
   ]
  },
  {
   "cell_type": "code",
   "execution_count": 10,
   "id": "75c5fe5c",
   "metadata": {},
   "outputs": [
    {
     "data": {
      "image/png": "[encoded data removed]",
      "text/plain": [
       "<Figure size 1080x720 with 4 Axes>"
      ]
     },
     "metadata": {
      "needs_background": "light"
     },
     "output_type": "display_data"
    }
   ],
   "source": [
    "### plotting the distplot for checking the normalization of the dataset\n",
    "\n",
    "plt.figure(figsize=(15,10))\n",
    "pn=1\n",
    "for column in df:\n",
    "    if pn <= 4:\n",
    "        ax= plt.subplot(2,2, pn)\n",
    "        sns.distplot(df[column])\n",
    "        plt.xlabel(column, fontsize= 20)\n",
    "    pn+=1\n",
    "plt.show()"
   ]
  },
  {
   "cell_type": "markdown",
   "id": "1733730d",
   "metadata": {},
   "source": [
    "#### I conclude from above plotting\n",
    "##### 1- TV has not good normalize but has better normalize data\n",
    "##### 2-Radio has not good normalize but has better normalize data\n",
    "##### 3- Newspapaer feature is right skewed otherwise has normal distribution \n",
    "##### 4- Sales(Target) is good distributuin.\n",
    "\n",
    "The target as well as feature has better data distribution. So I do not need to perform any normalize technique."
   ]
  },
  {
   "cell_type": "code",
   "execution_count": 11,
   "id": "c28e0262",
   "metadata": {},
   "outputs": [
    {
     "data": {
      "image/png": "[encoded data removed]",
      "text/plain": [
       "<Figure size 720x360 with 2 Axes>"
      ]
     },
     "metadata": {
      "needs_background": "light"
     },
     "output_type": "display_data"
    }
   ],
   "source": [
    "#### ### Now going to check the multicollinearity through heatmap \n",
    "plt.figure(figsize=(10,5))\n",
    "sns.heatmap(df.corr(), annot=True, fmt='.2f', linewidths=0.5, linecolor='black')\n",
    "plt.show()"
   ]
  },
  {
   "cell_type": "markdown",
   "id": "d93b8057",
   "metadata": {},
   "source": [
    "### I conclude from the above heatmap plotting that no feature has multicollinearity. \n",
    "\n",
    "#### Target(Sales) has maxium relation with TV which is (78%)\n",
    "#### Target(Sales) has minimum relation with Newspaper which is (23%)\n",
    "\n",
    "### I do not need to drop any feature as no feature has multicollinearity with each other even all feature has relation with target. \n"
   ]
  },
  {
   "cell_type": "markdown",
   "id": "c7eacba6",
   "metadata": {},
   "source": [
    "### Checking the stats of the dataset."
   ]
  },
  {
   "cell_type": "code",
   "execution_count": 12,
   "id": "d2b5df3c",
   "metadata": {},
   "outputs": [
    {
     "data": {
      "text/html": [
       "<div>\n",
       "<style scoped>\n",
       "    .dataframe tbody tr th:only-of-type {\n",
       "        vertical-align: middle;\n",
       "    }\n",
       "\n",
       "    .dataframe tbody tr th {\n",
       "        vertical-align: top;\n",
       "    }\n",
       "\n",
       "    .dataframe thead th {\n",
       "        text-align: right;\n",
       "    }\n",
       "</style>\n",
       "<table border=\"1\" class=\"dataframe\">\n",
       "  <thead>\n",
       "    <tr style=\"text-align: right;\">\n",
       "      <th></th>\n",
       "      <th>TV</th>\n",
       "      <th>radio</th>\n",
       "      <th>newspaper</th>\n",
       "      <th>sales</th>\n",
       "    </tr>\n",
       "  </thead>\n",
       "  <tbody>\n",
       "    <tr>\n",
       "      <th>count</th>\n",
       "      <td>200.000000</td>\n",
       "      <td>200.000000</td>\n",
       "      <td>200.000000</td>\n",
       "      <td>200.000000</td>\n",
       "    </tr>\n",
       "    <tr>\n",
       "      <th>mean</th>\n",
       "      <td>147.042500</td>\n",
       "      <td>23.264000</td>\n",
       "      <td>30.554000</td>\n",
       "      <td>14.022500</td>\n",
       "    </tr>\n",
       "    <tr>\n",
       "      <th>std</th>\n",
       "      <td>85.854236</td>\n",
       "      <td>14.846809</td>\n",
       "      <td>21.778621</td>\n",
       "      <td>5.217457</td>\n",
       "    </tr>\n",
       "    <tr>\n",
       "      <th>min</th>\n",
       "      <td>0.700000</td>\n",
       "      <td>0.000000</td>\n",
       "      <td>0.300000</td>\n",
       "      <td>1.600000</td>\n",
       "    </tr>\n",
       "    <tr>\n",
       "      <th>25%</th>\n",
       "      <td>74.375000</td>\n",
       "      <td>9.975000</td>\n",
       "      <td>12.750000</td>\n",
       "      <td>10.375000</td>\n",
       "    </tr>\n",
       "    <tr>\n",
       "      <th>50%</th>\n",
       "      <td>149.750000</td>\n",
       "      <td>22.900000</td>\n",
       "      <td>25.750000</td>\n",
       "      <td>12.900000</td>\n",
       "    </tr>\n",
       "    <tr>\n",
       "      <th>75%</th>\n",
       "      <td>218.825000</td>\n",
       "      <td>36.525000</td>\n",
       "      <td>45.100000</td>\n",
       "      <td>17.400000</td>\n",
       "    </tr>\n",
       "    <tr>\n",
       "      <th>max</th>\n",
       "      <td>296.400000</td>\n",
       "      <td>49.600000</td>\n",
       "      <td>114.000000</td>\n",
       "      <td>27.000000</td>\n",
       "    </tr>\n",
       "  </tbody>\n",
       "</table>\n",
       "</div>"
      ],
      "text/plain": [
       "               TV       radio   newspaper       sales\n",
       "count  200.000000  200.000000  200.000000  200.000000\n",
       "mean   147.042500   23.264000   30.554000   14.022500\n",
       "std     85.854236   14.846809   21.778621    5.217457\n",
       "min      0.700000    0.000000    0.300000    1.600000\n",
       "25%     74.375000    9.975000   12.750000   10.375000\n",
       "50%    149.750000   22.900000   25.750000   12.900000\n",
       "75%    218.825000   36.525000   45.100000   17.400000\n",
       "max    296.400000   49.600000  114.000000   27.000000"
      ]
     },
     "execution_count": 12,
     "metadata": {},
     "output_type": "execute_result"
    }
   ],
   "source": [
    "df.describe()"
   ]
  },
  {
   "cell_type": "code",
   "execution_count": 13,
   "id": "73a27478",
   "metadata": {},
   "outputs": [
    {
     "data": {
      "image/png": "[encoded data removed]",
      "text/plain": [
       "<Figure size 720x360 with 2 Axes>"
      ]
     },
     "metadata": {
      "needs_background": "light"
     },
     "output_type": "display_data"
    }
   ],
   "source": [
    "#### Now plotting the heatmap for stats of the data set \n",
    "plt.figure(figsize=(10,5))\n",
    "sns.heatmap(df.describe(), annot=True, fmt='.2f', linewidths=0.5, linecolor='black')\n",
    "plt.show()"
   ]
  },
  {
   "cell_type": "markdown",
   "id": "0fcc0c7a",
   "metadata": {},
   "source": [
    "### All stats of the dataset seems normal. So I will proceed further and checking the skewness of the data set."
   ]
  },
  {
   "cell_type": "code",
   "execution_count": 14,
   "id": "9c93ac9c",
   "metadata": {},
   "outputs": [
    {
     "data": {
      "text/plain": [
       "TV          -0.069853\n",
       "radio        0.094175\n",
       "newspaper    0.894720\n",
       "sales        0.407571\n",
       "dtype: float64"
      ]
     },
     "execution_count": 14,
     "metadata": {},
     "output_type": "execute_result"
    }
   ],
   "source": [
    "### Checking the skewness of the dataset\n",
    "df.skew()"
   ]
  },
  {
   "cell_type": "markdown",
   "id": "a334be37",
   "metadata": {},
   "source": [
    "### Keeping +-0.5 as the range for the skewness. Only newspaper feature is skewed. So, I will deal the skewness with power trasformer."
   ]
  },
  {
   "cell_type": "markdown",
   "id": "77ecf107",
   "metadata": {},
   "source": [
    "### Before applying the power transformer I will split the feature and target."
   ]
  },
  {
   "cell_type": "code",
   "execution_count": 15,
   "id": "ba1673e1",
   "metadata": {},
   "outputs": [],
   "source": [
    "x= df.drop(columns='sales')\n",
    "y=df[\"sales\"]"
   ]
  },
  {
   "cell_type": "code",
   "execution_count": 16,
   "id": "06584db7",
   "metadata": {},
   "outputs": [],
   "source": [
    "from sklearn.preprocessing import power_transform\n",
    "x_new = power_transform(x)\n",
    "x=pd.DataFrame(x_new, columns=x.columns)"
   ]
  },
  {
   "cell_type": "code",
   "execution_count": 17,
   "id": "02bea59d",
   "metadata": {},
   "outputs": [
    {
     "data": {
      "text/plain": [
       "TV          -0.315199\n",
       "radio       -0.242968\n",
       "newspaper   -0.077942\n",
       "dtype: float64"
      ]
     },
     "execution_count": 17,
     "metadata": {},
     "output_type": "execute_result"
    }
   ],
   "source": [
    "x.skew() ## checking that skewness is removed or not."
   ]
  },
  {
   "cell_type": "markdown",
   "id": "7e0fe044",
   "metadata": {},
   "source": [
    "#### We sucessfully removed the skewness of the features."
   ]
  },
  {
   "cell_type": "markdown",
   "id": "ab1c3fb1",
   "metadata": {},
   "source": [
    "### Now checking the outliers of the dataset."
   ]
  },
  {
   "cell_type": "code",
   "execution_count": 18,
   "id": "80dad73e",
   "metadata": {},
   "outputs": [
    {
     "data": {
      "image/png": "[encoded data removed]",
      "text/plain": [
       "<Figure size 720x360 with 4 Axes>"
      ]
     },
     "metadata": {},
     "output_type": "display_data"
    }
   ],
   "source": [
    "plt.figure(figsize=(10,5), facecolor='white')\n",
    "pn = 1\n",
    "for column in df:\n",
    "    if pn <= 4:\n",
    "        ax = plt.subplot(2,2, pn)\n",
    "        sns.boxplot(df[column])\n",
    "        plt.xlabel(column, fontsize =25)\n",
    "    pn+=1\n",
    "plt.tight_layout()"
   ]
  },
  {
   "cell_type": "markdown",
   "id": "d7432e97",
   "metadata": {},
   "source": [
    "### I conclude from the above boxplot that only newspaper feature has 2 outliers, it will be possible that two sales of the newspaer different. Working toward unbias model, I am not going to remove the outlier of the newspapaer. "
   ]
  },
  {
   "cell_type": "markdown",
   "id": "a62d7365",
   "metadata": {},
   "source": [
    "### Now spliting the dataset in the features and target. "
   ]
  },
  {
   "cell_type": "code",
   "execution_count": 19,
   "id": "e491b513",
   "metadata": {},
   "outputs": [],
   "source": [
    "x= df.drop(columns='sales')\n",
    "y=df[\"sales\"]"
   ]
  },
  {
   "cell_type": "code",
   "execution_count": 20,
   "id": "05ccc96c",
   "metadata": {},
   "outputs": [],
   "source": [
    "### Importing the libraries for model building.\n",
    "from sklearn.preprocessing import StandardScaler ### For scaling the data\n",
    "from sklearn.model_selection import train_test_split ### for train and testing the model\n",
    "from sklearn.metrics import r2_score, plot_roc_curve, mean_absolute_error, mean_squared_error\n",
    "from sklearn.linear_model import LinearRegression\n",
    "from sklearn.tree import DecisionTreeRegressor\n",
    "from sklearn.ensemble import RandomForestRegressor\n",
    "from sklearn.neighbors import KNeighborsRegressor\n",
    "from sklearn.svm import SVR"
   ]
  },
  {
   "cell_type": "code",
   "execution_count": 21,
   "id": "63357cef",
   "metadata": {},
   "outputs": [],
   "source": [
    "#### Scaling the feature for model building by using StandardScaler\n",
    "sc =StandardScaler()\n",
    "x_scaled = sc.fit_transform(x)"
   ]
  },
  {
   "cell_type": "code",
   "execution_count": 22,
   "id": "24d135b6",
   "metadata": {},
   "outputs": [],
   "source": [
    "### using train test split for spliting the dataset into the testing and training\n",
    "x_train,x_test,y_train,y_test = train_test_split(x_scaled,y , test_size=.20, random_state=25)"
   ]
  },
  {
   "cell_type": "code",
   "execution_count": 23,
   "id": "3e7b17dc",
   "metadata": {},
   "outputs": [
    {
     "name": "stdout",
     "output_type": "stream",
     "text": [
      "\n",
      " LinearRegression Model Accuracy and Model Scores \n",
      "\n",
      "R2 score for LinearRegression model 87.38569641880865\n"
     ]
    }
   ],
   "source": [
    "### Importing the LinearRegression and checking the score and r2 score\n",
    "lr= LinearRegression()\n",
    "lr.fit(x_train,y_train)\n",
    "pred_lr=lr.predict(x_test)\n",
    "r2_lr =r2_score(y_test,pred_lr)\n",
    "\n",
    "print(\"\\n LinearRegression Model Accuracy and Model Scores\",  '\\n\\nR2 score for LinearRegression model', r2_lr*100)"
   ]
  },
  {
   "cell_type": "code",
   "execution_count": 24,
   "id": "4c06c489",
   "metadata": {},
   "outputs": [
    {
     "name": "stdout",
     "output_type": "stream",
     "text": [
      "\n",
      " DecisionTreeRegressor Model Accuracy and Model Scores \n",
      "\n",
      "R2 score for DecisionTreeRegressor model 94.06356671034557\n"
     ]
    }
   ],
   "source": [
    "### Importing the DecisionTreeRegressor and checking the score and r2 score\n",
    "DTR= DecisionTreeRegressor()\n",
    "DTR.fit(x_train,y_train)\n",
    "pred_DTR=DTR.predict(x_test)\n",
    "r2_DTR =r2_score(y_test,pred_DTR)\n",
    "\n",
    "print(\"\\n DecisionTreeRegressor Model Accuracy and Model Scores\",  '\\n\\nR2 score for DecisionTreeRegressor model', r2_DTR*100)"
   ]
  },
  {
   "cell_type": "code",
   "execution_count": 25,
   "id": "8640952a",
   "metadata": {},
   "outputs": [
    {
     "name": "stdout",
     "output_type": "stream",
     "text": [
      "\n",
      " RandomForestRegressor Model Accuracy and Model Scores \n",
      "\n",
      "R2 score for RandomForestRegressor model 97.24523000443821\n"
     ]
    }
   ],
   "source": [
    "### Importing the RandomForestRegressor and checking the score and r2 score\n",
    "RFR= RandomForestRegressor()\n",
    "RFR.fit(x_train,y_train)\n",
    "pred_RFR=RFR.predict(x_test)\n",
    "r2_RFR =r2_score(y_test,pred_RFR)\n",
    "\n",
    "print(\"\\n RandomForestRegressor Model Accuracy and Model Scores\",  '\\n\\nR2 score for RandomForestRegressor model', r2_RFR*100)"
   ]
  },
  {
   "cell_type": "code",
   "execution_count": 26,
   "id": "83955209",
   "metadata": {},
   "outputs": [
    {
     "name": "stdout",
     "output_type": "stream",
     "text": [
      "\n",
      " KNeighborsRegressor Model Accuracy and Model Scores \n",
      "\n",
      "R2 score for KNeighborsRegressor model 94.30240438488946\n"
     ]
    }
   ],
   "source": [
    "### Importing the KNeighborsRegressor and checking the score and r2 score\n",
    "KNN= KNeighborsRegressor()\n",
    "KNN.fit(x_train,y_train)\n",
    "pred_KNN=KNN.predict(x_test)\n",
    "r2_KNN =r2_score(y_test,pred_KNN)\n",
    "\n",
    "print(\"\\n KNeighborsRegressor Model Accuracy and Model Scores\",  '\\n\\nR2 score for KNeighborsRegressor model', r2_KNN*100)"
   ]
  },
  {
   "cell_type": "code",
   "execution_count": 27,
   "id": "743da47c",
   "metadata": {},
   "outputs": [
    {
     "name": "stdout",
     "output_type": "stream",
     "text": [
      "\n",
      " SupportVectorRegressor Model Accuracy and Model Scores \n",
      "\n",
      "R2 score for SupportVectorRegressor model 88.88275516694813\n"
     ]
    }
   ],
   "source": [
    "### Importing the SupportVectorRegressor and checking the score and r2 score\n",
    "svr= SVR()\n",
    "svr.fit(x_train,y_train)\n",
    "pred_svr=svr.predict(x_test)\n",
    "r2_svr=r2_score(y_test,pred_svr)\n",
    "\n",
    "print(\"\\n SupportVectorRegressor Model Accuracy and Model Scores\",  '\\n\\nR2 score for SupportVectorRegressor model', r2_svr*100)"
   ]
  },
  {
   "cell_type": "markdown",
   "id": "26e396d9",
   "metadata": {},
   "source": [
    "### I performed 5 model prediction R2_score, those score are mentioned below - \n",
    "\n",
    "#### R2 score for LinearRegression model 87.38569641880865\n",
    "#### R2 score for DecisionTreeRegressor model 94.9397010598925\n",
    "#### R2 score for RandomForestRegressor model 97.25821912752743\n",
    "#### R2 score for KNeighborsRegressor model 94.30240438488946\n",
    "#### R2 score for SupportVectorRegressor model 88.88275516694813\n",
    "\n",
    "### From the above, I conclude that I will go forward with RandomForestRegressor model as the r2_score is 97%.\n"
   ]
  },
  {
   "cell_type": "markdown",
   "id": "05f45a27",
   "metadata": {},
   "source": [
    "### The RandomForestRegressor model is performing good but still I will try to inscrease the r2_score thorgh hypertuning of paramenter."
   ]
  },
  {
   "cell_type": "code",
   "execution_count": 28,
   "id": "1078858b",
   "metadata": {},
   "outputs": [],
   "source": [
    "#### importing the GridSearchCV for hyperparameter tuning.\n",
    "from sklearn.model_selection import GridSearchCV\n",
    "RFR = RandomForestRegressor()\n",
    "para = {'n_estimators':range(1,4),\n",
    "       'criterion':[\"mse\", \"mae\"],\n",
    "        'max_depth':range(2,8),\n",
    "    'min_samples_split':range(2,10),\n",
    "    'min_samples_leaf':range(1,8)}"
   ]
  },
  {
   "cell_type": "code",
   "execution_count": 29,
   "id": "8cc660fa",
   "metadata": {},
   "outputs": [
    {
     "data": {
      "text/plain": [
       "GridSearchCV(cv=5, estimator=RandomForestRegressor(), n_jobs=-1,\n",
       "             param_grid={'criterion': ['mse', 'mae'], 'max_depth': range(2, 8),\n",
       "                         'min_samples_leaf': range(1, 8),\n",
       "                         'min_samples_split': range(2, 10),\n",
       "                         'n_estimators': range(1, 4)})"
      ]
     },
     "execution_count": 29,
     "metadata": {},
     "output_type": "execute_result"
    }
   ],
   "source": [
    "gridsearch= GridSearchCV(estimator=RFR, param_grid=para, cv=5, n_jobs=-1)\n",
    "gridsearch.fit(x_train,y_train)"
   ]
  },
  {
   "cell_type": "code",
   "execution_count": 30,
   "id": "d90a30bb",
   "metadata": {},
   "outputs": [
    {
     "data": {
      "text/plain": [
       "{'criterion': 'mse',\n",
       " 'max_depth': 7,\n",
       " 'min_samples_leaf': 1,\n",
       " 'min_samples_split': 7,\n",
       " 'n_estimators': 3}"
      ]
     },
     "execution_count": 30,
     "metadata": {},
     "output_type": "execute_result"
    }
   ],
   "source": [
    "gridsearch.best_params_"
   ]
  },
  {
   "cell_type": "code",
   "execution_count": 31,
   "id": "5e683f5c",
   "metadata": {},
   "outputs": [],
   "source": [
    "RFR = RandomForestRegressor(criterion='mae',max_depth= 8,min_samples_leaf=2,min_samples_split= 5,n_estimators= 9)"
   ]
  },
  {
   "cell_type": "code",
   "execution_count": 32,
   "id": "cf6c4e74",
   "metadata": {},
   "outputs": [
    {
     "name": "stdout",
     "output_type": "stream",
     "text": [
      "\n",
      " RandomForestRegressor Model Accuracy and Model Scores \n",
      "\n",
      "R2 score for RandomForestRegressor model 97.26468664374639\n"
     ]
    }
   ],
   "source": [
    "RFR.fit(x_train,y_train)\n",
    "pred_RFR=RFR.predict(x_test)\n",
    "r2_RFR_n =r2_score(y_test,pred_RFR)\n",
    "\n",
    "print(\"\\n RandomForestRegressor Model Accuracy and Model Scores\",  '\\n\\nR2 score for RandomForestRegressor model', r2_RFR_n*100)"
   ]
  },
  {
   "cell_type": "markdown",
   "id": "2fa75f22",
   "metadata": {},
   "source": [
    "### I tried to get more R2 score through Hyperparameter tunning but RandomForestRegressor model given good score without Hyperparameter tunning. So I am moving forward without Hyperparameter tunning RandomForestRegressor model"
   ]
  },
  {
   "cell_type": "code",
   "execution_count": 33,
   "id": "7cf89ade",
   "metadata": {},
   "outputs": [
    {
     "name": "stdout",
     "output_type": "stream",
     "text": [
      "\n",
      " RandomForestRegressor Model Accuracy and Model Scores \n",
      "\n",
      "R2 score for RandomForestRegressor model 97.17083392844648\n"
     ]
    }
   ],
   "source": [
    "### Importing the RandomForestRegressor and checking the score and r2 score\n",
    "RFR= RandomForestRegressor()\n",
    "RFR.fit(x_train,y_train)\n",
    "pred_RFR=RFR.predict(x_test)\n",
    "r2_RFR =r2_score(y_test,pred_RFR)\n",
    "\n",
    "print(\"\\n RandomForestRegressor Model Accuracy and Model Scores\",  '\\n\\nR2 score for RandomForestRegressor model', r2_RFR*100)"
   ]
  },
  {
   "cell_type": "markdown",
   "id": "17cf2586",
   "metadata": {},
   "source": [
    "### Checking the errors metrics like - mean_absolute_error, mean_squared_error"
   ]
  },
  {
   "cell_type": "code",
   "execution_count": 34,
   "id": "9c39e2e7",
   "metadata": {},
   "outputs": [
    {
     "name": "stdout",
     "output_type": "stream",
     "text": [
      "Error for the RandomForestRegressor \n",
      "\n",
      "Mean_absolute_error 0.6601999999999993 \n",
      "Mean_squared_error 0.7378599499999957 \n",
      "Root mean_squared_error 0.8589877472932869\n"
     ]
    }
   ],
   "source": [
    "mae = mean_absolute_error(y_test,pred_RFR)\n",
    "mse = mean_squared_error(y_test,pred_RFR)\n",
    "rmse = np.sqrt(mse)\n",
    "print(\"Error for the RandomForestRegressor\", '\\n\\nMean_absolute_error', mae,\"\\nMean_squared_error\", mse, '\\nRoot mean_squared_error', rmse)"
   ]
  },
  {
   "cell_type": "markdown",
   "id": "ad51d8ea",
   "metadata": {},
   "source": [
    "### All errors are normal"
   ]
  },
  {
   "cell_type": "markdown",
   "id": "8da8f31e",
   "metadata": {},
   "source": [
    "### Now performing the cross validataion for the RandomForestRegressor model"
   ]
  },
  {
   "cell_type": "code",
   "execution_count": 35,
   "id": "fb94db63",
   "metadata": {},
   "outputs": [
    {
     "name": "stdout",
     "output_type": "stream",
     "text": [
      "Cross Validation for RandomForestRegressor is  0.9750179131689309\n"
     ]
    }
   ],
   "source": [
    "### importing the cross validation library\n",
    "from sklearn.model_selection import cross_val_score\n",
    "scr = cross_val_score(RFR, x,y, cv=5)\n",
    "print(\"Cross Validation for RandomForestRegressor is \", scr.mean())"
   ]
  },
  {
   "cell_type": "markdown",
   "id": "27c87a0d",
   "metadata": {},
   "source": [
    "### Cross validation and model r2 score are same. It is mean that model is performing very good."
   ]
  },
  {
   "cell_type": "markdown",
   "id": "0bd07db7",
   "metadata": {},
   "source": [
    "## Saving the model pickel format"
   ]
  },
  {
   "cell_type": "code",
   "execution_count": 36,
   "id": "fe8af357",
   "metadata": {},
   "outputs": [
    {
     "data": {
      "text/plain": [
       "['Advertisement.pkl']"
      ]
     },
     "execution_count": 36,
     "metadata": {},
     "output_type": "execute_result"
    }
   ],
   "source": [
    "import joblib\n",
    "joblib.dump(RFR, 'Advertisement.pkl')"
   ]
  }
 ],
 "metadata": {
  "kernelspec": {
   "display_name": "Python 3",
   "language": "python",
   "name": "python3"
  },
  "language_info": {
   "codemirror_mode": {
    "name": "ipython",
    "version": 3
   },
   "file_extension": ".py",
   "mimetype": "text/x-python",
   "name": "python",
   "nbconvert_exporter": "python",
   "pygments_lexer": "ipython3",
   "version": "3.8.8"
  }
 },
 "nbformat": 4,
 "nbformat_minor": 5
}
